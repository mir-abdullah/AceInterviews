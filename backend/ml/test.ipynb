{
 "cells": [
  {
   "cell_type": "code",
   "execution_count": 1,
   "metadata": {},
   "outputs": [],
   "source": [
    "from PIL import Image, ImageDraw\n",
    "import numpy as np\n",
    "import dlib\n"
   ]
  },
  {
   "cell_type": "code",
   "execution_count": 7,
   "metadata": {},
   "outputs": [],
   "source": [
    "# Initialize the face detector and the shape predictor\n",
    "detector = dlib.get_frontal_face_detector()\n",
    "predictor = dlib.shape_predictor(r\"C:\\Users\\MIR\\Downloads\\Final Farukh Projects\\Final Farukh Projects\\shape_predictor_68_face_landmarks.dat\")\n",
    "\n"
   ]
  },
  {
   "cell_type": "code",
   "execution_count": 5,
   "metadata": {},
   "outputs": [],
   "source": [
    "# Eye blink detection functions\n",
    "def compute(ptA, ptB):\n",
    "    return np.linalg.norm(np.array(ptA) - np.array(ptB))\n"
   ]
  },
  {
   "cell_type": "code",
   "execution_count": 6,
   "metadata": {},
   "outputs": [],
   "source": [
    "def blinked(a, b, c, d, e, f):\n",
    "    up = compute(b, d) + compute(c, e)\n",
    "    down = compute(a, f)\n",
    "    ratio = up / (2.0 * down)\n",
    "    if ratio > 0.25:\n",
    "        return 2  # Eyes closed\n",
    "    elif ratio > 0.21:\n",
    "        return 1  # Drowsy\n",
    "    return 0  # Eyes open\n"
   ]
  },
  {
   "cell_type": "code",
   "execution_count": null,
   "metadata": {},
   "outputs": [],
   "source": [
    "# Process the image and return the status\n",
    "def process_image(image_path):\n",
    "    # Open the image and convert it to grayscale\n",
    "    img = Image.open(image_path).convert('RGB')\n",
    "    img_gray = img.convert('L')\n",
    "    img_array = np.array(img_gray)\n",
    "\n",
    "    # Detect faces\n",
    "    faces = detector(img_array)\n",
    "    response = []\n",
    "\n",
    "    for face in faces:\n",
    "        # Predict facial landmarks\n",
    "        landmarks = predictor(img_array, face)\n",
    "\n",
    "        # Extract landmark points\n",
    "        landmark_points = [(landmarks.part(i).x, landmarks.part(i).y) for i in range(68)]\n",
    "\n",
    "        # Eye tracking\n",
    "        left_blink = blinked(landmark_points[36], landmark_points[37],\n",
    "                             landmark_points[38], landmark_points[41], landmark_points[40], landmark_points[39])\n",
    "        right_blink = blinked(landmark_points[42], landmark_points[43],\n",
    "                              landmark_points[44], landmark_points[47], landmark_points[46], landmark_points[45])\n",
    "\n",
    "        # Determine status\n",
    "        if left_blink == 0 or right_blink == 0:\n",
    "            status = \"Distracted \"\n",
    "        elif left_blink == 1 or right_blink == 1:\n",
    "            status = \"Drowsy \"\n",
    "        else:\n",
    "            status = \"Attentive\"\n",
    "\n",
    "        # Append status to the response\n",
    "        response.append({\"face\": (face.left(), face.top(), face.right(), face.bottom()), \"status\": status})\n",
    "\n",
    "    return response"
   ]
  },
  {
   "cell_type": "code",
   "execution_count": 17,
   "metadata": {},
   "outputs": [
    {
     "name": "stdout",
     "output_type": "stream",
     "text": [
      "Attentive :)\n"
     ]
    }
   ],
   "source": [
    "image_path = \"C:\\\\Users\\\\MIR\\\\Desktop\\\\expression image.png\"\n",
    "result = process_image(image_path)\n",
    "# Print only the status\n",
    "for face_data in result:\n",
    "    print(face_data['status'])\n"
   ]
  },
  {
   "cell_type": "code",
   "execution_count": null,
   "metadata": {},
   "outputs": [],
   "source": []
  }
 ],
 "metadata": {
  "kernelspec": {
   "display_name": "Python 3",
   "language": "python",
   "name": "python3"
  },
  "language_info": {
   "codemirror_mode": {
    "name": "ipython",
    "version": 3
   },
   "file_extension": ".py",
   "mimetype": "text/x-python",
   "name": "python",
   "nbconvert_exporter": "python",
   "pygments_lexer": "ipython3",
   "version": "3.9.6"
  }
 },
 "nbformat": 4,
 "nbformat_minor": 2
}
